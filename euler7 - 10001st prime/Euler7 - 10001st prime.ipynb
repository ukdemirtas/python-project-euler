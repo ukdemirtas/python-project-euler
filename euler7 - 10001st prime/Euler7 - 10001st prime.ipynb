{
 "cells": [
  {
   "cell_type": "code",
   "execution_count": 1,
   "id": "75738ae1-6ce9-4388-ae29-91912a633a1c",
   "metadata": {},
   "outputs": [],
   "source": [
    "import math"
   ]
  },
  {
   "cell_type": "code",
   "execution_count": 2,
   "id": "07f96fbe-7aa6-413f-b57a-d22d881c6558",
   "metadata": {},
   "outputs": [],
   "source": [
    "def isPrime(n):\n",
    "    for i in range(2,int(n**0.5)+1):\n",
    "        if n%i==0:\n",
    "            return False\n",
    "        \n",
    "    return True"
   ]
  },
  {
   "cell_type": "code",
   "execution_count": 3,
   "id": "60004830-d126-494f-9642-28bc575ee940",
   "metadata": {},
   "outputs": [],
   "source": [
    "starting_number = 1\n",
    "prime_numbers=0\n",
    "while prime_numbers < 10001:\n",
    "    starting_number+=1\n",
    "    if isPrime(starting_number):\n",
    "        prime_numbers += 1"
   ]
  },
  {
   "cell_type": "code",
   "execution_count": 4,
   "id": "96446dc7-749a-4c76-84be-f3bfb4248ff2",
   "metadata": {},
   "outputs": [
    {
     "name": "stdout",
     "output_type": "stream",
     "text": [
      "10001st prime number is 10001\n"
     ]
    }
   ],
   "source": [
    "print(f\"10001st prime number is {startin}\")"
   ]
  },
  {
   "cell_type": "code",
   "execution_count": null,
   "id": "b7d24edd-69dc-4937-b27d-e3cb847f871b",
   "metadata": {},
   "outputs": [],
   "source": []
  }
 ],
 "metadata": {
  "kernelspec": {
   "display_name": "Python 3 (ipykernel)",
   "language": "python",
   "name": "python3"
  },
  "language_info": {
   "codemirror_mode": {
    "name": "ipython",
    "version": 3
   },
   "file_extension": ".py",
   "mimetype": "text/x-python",
   "name": "python",
   "nbconvert_exporter": "python",
   "pygments_lexer": "ipython3",
   "version": "3.9.12"
  }
 },
 "nbformat": 4,
 "nbformat_minor": 5
}
