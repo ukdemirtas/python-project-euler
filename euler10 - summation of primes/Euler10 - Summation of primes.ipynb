{
 "cells": [
  {
   "cell_type": "code",
   "execution_count": 1,
   "id": "8a4e753e-8881-40ac-810e-4e81bd4daf4b",
   "metadata": {},
   "outputs": [],
   "source": [
    "def isPrime(n):\n",
    "    for i in range(2,int(n**0.5)+1):\n",
    "        if n%i==0:\n",
    "            return False\n",
    "        \n",
    "    return True"
   ]
  },
  {
   "cell_type": "code",
   "execution_count": 2,
   "id": "1a3963fa-c36a-4409-88df-5717918c9dda",
   "metadata": {},
   "outputs": [],
   "source": [
    "sum_of_primes = 0\n",
    "number = 1\n",
    "while number<2000000:\n",
    "    number+=1\n",
    "    if isPrime(number):\n",
    "        sum_of_primes+=number"
   ]
  },
  {
   "cell_type": "code",
   "execution_count": 3,
   "id": "df8c2c3c-a2e5-4794-a393-370015198aa3",
   "metadata": {},
   "outputs": [
    {
     "name": "stdout",
     "output_type": "stream",
     "text": [
      "Sum of all the primes below 2000000 is : 142913828922\n"
     ]
    }
   ],
   "source": [
    "print(f'Sum of all the primes below {number} is : {sum_of_primes}')"
   ]
  }
 ],
 "metadata": {
  "kernelspec": {
   "display_name": "Python 3 (ipykernel)",
   "language": "python",
   "name": "python3"
  },
  "language_info": {
   "codemirror_mode": {
    "name": "ipython",
    "version": 3
   },
   "file_extension": ".py",
   "mimetype": "text/x-python",
   "name": "python",
   "nbconvert_exporter": "python",
   "pygments_lexer": "ipython3",
   "version": "3.9.12"
  }
 },
 "nbformat": 4,
 "nbformat_minor": 5
}
