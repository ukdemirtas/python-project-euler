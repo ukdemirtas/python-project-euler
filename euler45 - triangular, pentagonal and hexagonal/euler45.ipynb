{
 "cells": [
  {
   "cell_type": "code",
   "execution_count": 7,
   "id": "7363afd3-5c8c-423d-93e8-13e421e94a19",
   "metadata": {},
   "outputs": [],
   "source": [
    "def is_pentagonal(p):\n",
    "    if (1+(24*p+1)**0.5)% 6 == 0:\n",
    "        return True\n",
    "    return False"
   ]
  },
  {
   "cell_type": "code",
   "execution_count": 8,
   "id": "f625c6a1-1d8f-4803-91cc-76222b56097b",
   "metadata": {},
   "outputs": [],
   "source": [
    "def is_hexagonal(h):\n",
    "    if (1+(8*h+1)**0.5) % 4 == 0:\n",
    "        return True\n",
    "    return False"
   ]
  },
  {
   "cell_type": "code",
   "execution_count": 13,
   "id": "660bcadf-9897-4a2f-a44d-61b239490563",
   "metadata": {},
   "outputs": [],
   "source": [
    "i = 286"
   ]
  },
  {
   "cell_type": "code",
   "execution_count": 14,
   "id": "c2fbf529-5a95-4481-bfdf-6febd75d2eec",
   "metadata": {},
   "outputs": [
    {
     "name": "stdout",
     "output_type": "stream",
     "text": [
      "1533776805.0\n"
     ]
    }
   ],
   "source": [
    "while True:\n",
    "    triangle = i*(i+1)/2\n",
    "    if is_pentagonal(triangle) & is_hexagonal(triangle):\n",
    "        print(triangle)\n",
    "        break\n",
    "    i+=1"
   ]
  },
  {
   "cell_type": "code",
   "execution_count": null,
   "id": "01753298-8249-4925-abc5-42db111e281c",
   "metadata": {},
   "outputs": [],
   "source": []
  }
 ],
 "metadata": {
  "kernelspec": {
   "display_name": "Python 3 (ipykernel)",
   "language": "python",
   "name": "python3"
  },
  "language_info": {
   "codemirror_mode": {
    "name": "ipython",
    "version": 3
   },
   "file_extension": ".py",
   "mimetype": "text/x-python",
   "name": "python",
   "nbconvert_exporter": "python",
   "pygments_lexer": "ipython3",
   "version": "3.9.12"
  }
 },
 "nbformat": 4,
 "nbformat_minor": 5
}
