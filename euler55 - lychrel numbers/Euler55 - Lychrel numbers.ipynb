{
 "cells": [
  {
   "cell_type": "code",
   "execution_count": 1,
   "id": "14f489b6-5b33-4101-a8b0-6e4ea9a4f9e9",
   "metadata": {},
   "outputs": [],
   "source": [
    "def is_lychrel(n):\n",
    "    for i in range(50):\n",
    "        number = n + int(str(n)[::-1])\n",
    "        if str(number) == str(number)[::-1]:\n",
    "            return False\n",
    "        n = number\n",
    "    return True"
   ]
  },
  {
   "cell_type": "code",
   "execution_count": 2,
   "id": "1176e40b-4079-4326-bc95-5e68101a7ecb",
   "metadata": {},
   "outputs": [],
   "source": [
    "lychrel_counter = 0"
   ]
  },
  {
   "cell_type": "code",
   "execution_count": 3,
   "id": "4d7f23c2-5543-4d0d-97e0-a10e59eeee16",
   "metadata": {},
   "outputs": [],
   "source": [
    "for i in range(10001):\n",
    "    if is_lychrel(i):\n",
    "        lychrel_counter += 1"
   ]
  },
  {
   "cell_type": "code",
   "execution_count": 4,
   "id": "b18ec818-c987-43b8-be26-59561c778997",
   "metadata": {},
   "outputs": [
    {
     "name": "stdout",
     "output_type": "stream",
     "text": [
      "There are 249 Lychrel number below 10000.\n"
     ]
    }
   ],
   "source": [
    "print(f\"There are {lychrel_counter} Lychrel number below 10000.\")"
   ]
  }
 ],
 "metadata": {
  "kernelspec": {
   "display_name": "Python 3 (ipykernel)",
   "language": "python",
   "name": "python3"
  },
  "language_info": {
   "codemirror_mode": {
    "name": "ipython",
    "version": 3
   },
   "file_extension": ".py",
   "mimetype": "text/x-python",
   "name": "python",
   "nbconvert_exporter": "python",
   "pygments_lexer": "ipython3",
   "version": "3.9.12"
  }
 },
 "nbformat": 4,
 "nbformat_minor": 5
}
